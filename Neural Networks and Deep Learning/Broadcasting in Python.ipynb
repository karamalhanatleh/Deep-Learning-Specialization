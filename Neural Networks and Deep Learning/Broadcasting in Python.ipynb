{
 "cells": [
  {
   "cell_type": "markdown",
   "id": "aefd456d",
   "metadata": {},
   "source": [
    "# Broadcasting in Python  \n"
   ]
  },
  {
   "cell_type": "markdown",
   "id": "8548ea34",
   "metadata": {},
   "source": [
    "![](img/example_Broadcasting.jpg \"exmaple\")"
   ]
  },
  {
   "cell_type": "code",
   "execution_count": 2,
   "id": "9579fc48",
   "metadata": {},
   "outputs": [],
   "source": [
    "#import paskages\n",
    "import numpy as np"
   ]
  },
  {
   "cell_type": "code",
   "execution_count": 5,
   "id": "abecfbe5",
   "metadata": {},
   "outputs": [
    {
     "data": {
      "text/plain": [
       "array([[ 56. ,   0. ,   4.4,  68. ],\n",
       "       [  1.2, 104. ,  52. ,   8. ],\n",
       "       [  1.8, 135. ,  99. ,   0.9]])"
      ]
     },
     "execution_count": 5,
     "metadata": {},
     "output_type": "execute_result"
    }
   ],
   "source": [
    "#create array\n",
    "A=np.array([ [56.0  ,0.0  ,4.4  ,68.0],\n",
    "             [1.2 , 104.0 , 52.0 , 8.0],\n",
    "             [1.8 ,135.0 ,99.0 ,0.9]])\n",
    "#print array \n",
    "A"
   ]
  },
  {
   "cell_type": "code",
   "execution_count": 10,
   "id": "705496db",
   "metadata": {},
   "outputs": [
    {
     "name": "stdout",
     "output_type": "stream",
     "text": [
      "[ 59.  239.  155.4  76.9]\n"
     ]
    }
   ],
   "source": [
    "# Calculating the sum vertically along the columns of array A\n",
    "cal = A.sum(axis=0)\n",
    "# Printing the sum\n",
    "print(cal)\n"
   ]
  },
  {
   "cell_type": "code",
   "execution_count": 11,
   "id": "c6b6df4a",
   "metadata": {},
   "outputs": [
    {
     "data": {
      "text/plain": [
       "array([[94.91525424,  0.        ,  2.83140283, 88.42652796],\n",
       "       [ 2.03389831, 43.51464435, 33.46203346, 10.40312094],\n",
       "       [ 3.05084746, 56.48535565, 63.70656371,  1.17035111]])"
      ]
     },
     "execution_count": 11,
     "metadata": {},
     "output_type": "execute_result"
    }
   ],
   "source": [
    "# Calculating the percentage contribution of each element in array A to the total sum along columns\n",
    "# Reshaping cal array to ensure proper broadcasting during division\n",
    "percentage = 100 * A / cal.reshape(1, 4)\n",
    "# Returning the calculated percentages\n",
    "percentage"
   ]
  },
  {
   "cell_type": "code",
   "execution_count": null,
   "id": "74b2a390",
   "metadata": {},
   "outputs": [],
   "source": []
  },
  {
   "cell_type": "code",
   "execution_count": null,
   "id": "dc1bcef1",
   "metadata": {},
   "outputs": [],
   "source": []
  }
 ],
 "metadata": {
  "kernelspec": {
   "display_name": "Python 3 (ipykernel)",
   "language": "python",
   "name": "python3"
  },
  "language_info": {
   "codemirror_mode": {
    "name": "ipython",
    "version": 3
   },
   "file_extension": ".py",
   "mimetype": "text/x-python",
   "name": "python",
   "nbconvert_exporter": "python",
   "pygments_lexer": "ipython3",
   "version": "3.9.13"
  }
 },
 "nbformat": 4,
 "nbformat_minor": 5
}
