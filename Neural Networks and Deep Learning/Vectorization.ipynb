{
 "cells": [
  {
   "cell_type": "markdown",
   "id": "f35e061b",
   "metadata": {},
   "source": [
    "# Vectorization\n"
   ]
  },
  {
   "cell_type": "code",
   "execution_count": 2,
   "id": "b0709bd0",
   "metadata": {},
   "outputs": [],
   "source": [
    "#import paskages\n",
    "import numpy as np\n",
    "import time"
   ]
  },
  {
   "cell_type": "code",
   "execution_count": null,
   "id": "1543511f",
   "metadata": {},
   "outputs": [],
   "source": [
    "#array\n",
    "a=np.array([1,2,3,4])\n",
    "print(a)"
   ]
  },
  {
   "cell_type": "markdown",
   "id": "127accd4",
   "metadata": {},
   "source": [
    " to be comparing the performance of vectorized operations versus element-wise operations for multiplying two arrays a and b, each containing 10,000,000 random numbers \n"
   ]
  },
  {
   "cell_type": "code",
   "execution_count": 15,
   "id": "5c8f7c8d",
   "metadata": {},
   "outputs": [
    {
     "name": "stdout",
     "output_type": "stream",
     "text": [
      "2499010.535871315\n",
      "Vectorized version : 0.0 ms\n",
      "0.09876537505740976\n",
      "for loop : 3705.9078216552734 ms\n"
     ]
    }
   ],
   "source": [
    "#create random dimension array (1,000,000) and calculate time\n",
    "a=np.random.rand(10000000)\n",
    "b=np.random.rand(10000000)\n",
    "\n",
    "tic= time.time()\n",
    "c=np.dot(a,b)\n",
    "toc= time.time()\n",
    "\n",
    "print(c)\n",
    "print(\"Vectorized version : \"+ str(1000*(toc-tic))+' ms')\n",
    "\n",
    "\n",
    "tic= time.time()\n",
    "for i in range(10000000):\n",
    "    c=a[i]*b[i]\n",
    "toc= time.time()\n",
    "\n",
    "print(c)\n",
    "print(\"for loop : \"+ str(1000*(toc-tic))+' ms')\n"
   ]
  },
  {
   "cell_type": "markdown",
   "id": "1885b658",
   "metadata": {},
   "source": [
    " output shows that the vectorized version is significantly faster than the loop-based computation."
   ]
  },
  {
   "cell_type": "code",
   "execution_count": null,
   "id": "2692b124",
   "metadata": {},
   "outputs": [],
   "source": []
  },
  {
   "cell_type": "code",
   "execution_count": null,
   "id": "505edf00",
   "metadata": {},
   "outputs": [],
   "source": []
  }
 ],
 "metadata": {
  "kernelspec": {
   "display_name": "Python 3 (ipykernel)",
   "language": "python",
   "name": "python3"
  },
  "language_info": {
   "codemirror_mode": {
    "name": "ipython",
    "version": 3
   },
   "file_extension": ".py",
   "mimetype": "text/x-python",
   "name": "python",
   "nbconvert_exporter": "python",
   "pygments_lexer": "ipython3",
   "version": "3.9.13"
  }
 },
 "nbformat": 4,
 "nbformat_minor": 5
}
