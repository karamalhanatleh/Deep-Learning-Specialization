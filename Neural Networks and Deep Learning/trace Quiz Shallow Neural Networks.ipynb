{
 "cells": [
  {
   "cell_type": "markdown",
   "id": "527c650f",
   "metadata": {},
   "source": [
    "# trace Quiz Shallow Neural Networks"
   ]
  },
  {
   "cell_type": "code",
   "execution_count": 1,
   "id": "aadcc6fb",
   "metadata": {},
   "outputs": [],
   "source": [
    "#import paskages\n",
    "import numpy as np"
   ]
  },
  {
   "cell_type": "raw",
   "id": "78c13997",
   "metadata": {},
   "source": [
    "\n",
    "Consider the following code:\n",
    "\n",
    "#+begin_src python\n",
    "\n",
    "x = np.random.rand(4, 5)\n",
    "\n",
    "y = np.sum(x, axis=1)\n",
    "\n",
    "#+end_src\n",
    "\n",
    "What will be y.shape?"
   ]
  },
  {
   "cell_type": "code",
   "execution_count": 2,
   "id": "8050fe6b",
   "metadata": {},
   "outputs": [
    {
     "data": {
      "text/plain": [
       "array([[0.28729366, 0.25137417, 0.65669843, 0.15144187, 0.30441368],\n",
       "       [0.89096779, 0.64632956, 0.78600186, 0.75448934, 0.9257346 ],\n",
       "       [0.73484893, 0.02831539, 0.29290092, 0.39548833, 0.35564799],\n",
       "       [0.84755986, 0.14412644, 0.14291699, 0.93581121, 0.15998838]])"
      ]
     },
     "execution_count": 2,
     "metadata": {},
     "output_type": "execute_result"
    }
   ],
   "source": [
    "## Generate a 4x5 array of random numbers\n",
    "x=np.random.rand(4,5)\n",
    "x"
   ]
  },
  {
   "cell_type": "code",
   "execution_count": 3,
   "id": "c013ccf6",
   "metadata": {},
   "outputs": [
    {
     "name": "stdout",
     "output_type": "stream",
     "text": [
      "Array y:\n",
      "[1.65122181 4.00352314 1.80720155 2.23040288]\n",
      "Shape of y: (4,)\n"
     ]
    }
   ],
   "source": [
    "\n",
    "#sum\n",
    "y=np.sum(x, axis=1)\n",
    "\n",
    "# Print the resulting array and its shape\n",
    "print(\"Array y:\")\n",
    "print(y)\n",
    "print(\"Shape of y:\", y.shape)"
   ]
  },
  {
   "cell_type": "code",
   "execution_count": 6,
   "id": "1c2e4bae",
   "metadata": {},
   "outputs": [
    {
     "name": "stdout",
     "output_type": "stream",
     "text": [
      "(4, 5)\n"
     ]
    },
    {
     "data": {
      "text/plain": [
       "array([[ 1,  2,  3,  4,  5],\n",
       "       [ 6,  7,  8,  9, 10],\n",
       "       [11, 12, 13, 14, 15],\n",
       "       [16, 17, 18, 19, 20]])"
      ]
     },
     "execution_count": 6,
     "metadata": {},
     "output_type": "execute_result"
    }
   ],
   "source": [
    "#another example \n",
    "X= np.array([[1,2,3,4,5],[6,7,8,9,10],[11,12,13,14,15],[16,17,18,19,20]])\n",
    "print(X.shape)\n",
    "X"
   ]
  },
  {
   "cell_type": "code",
   "execution_count": 10,
   "id": "c3a9a91d",
   "metadata": {},
   "outputs": [
    {
     "name": "stdout",
     "output_type": "stream",
     "text": [
      "(4,)\n"
     ]
    },
    {
     "data": {
      "text/plain": [
       "array([15, 40, 65, 90])"
      ]
     },
     "execution_count": 10,
     "metadata": {},
     "output_type": "execute_result"
    }
   ],
   "source": [
    "#sum\n",
    "Y=np.sum(X, axis=1)\n",
    "print(Y.shape)\n",
    "Y"
   ]
  },
  {
   "cell_type": "code",
   "execution_count": null,
   "id": "8e9cbe9a",
   "metadata": {},
   "outputs": [],
   "source": []
  },
  {
   "cell_type": "code",
   "execution_count": null,
   "id": "c1d5bd7c",
   "metadata": {},
   "outputs": [],
   "source": []
  },
  {
   "cell_type": "code",
   "execution_count": null,
   "id": "ae4752b2",
   "metadata": {},
   "outputs": [],
   "source": []
  },
  {
   "cell_type": "code",
   "execution_count": null,
   "id": "7f3810c9",
   "metadata": {},
   "outputs": [],
   "source": []
  },
  {
   "cell_type": "code",
   "execution_count": null,
   "id": "61f31a19",
   "metadata": {},
   "outputs": [],
   "source": []
  },
  {
   "cell_type": "code",
   "execution_count": null,
   "id": "56ef79b0",
   "metadata": {},
   "outputs": [],
   "source": []
  },
  {
   "cell_type": "code",
   "execution_count": null,
   "id": "c4b9c36c",
   "metadata": {},
   "outputs": [],
   "source": []
  }
 ],
 "metadata": {
  "kernelspec": {
   "display_name": "Python 3 (ipykernel)",
   "language": "python",
   "name": "python3"
  },
  "language_info": {
   "codemirror_mode": {
    "name": "ipython",
    "version": 3
   },
   "file_extension": ".py",
   "mimetype": "text/x-python",
   "name": "python",
   "nbconvert_exporter": "python",
   "pygments_lexer": "ipython3",
   "version": "3.9.13"
  }
 },
 "nbformat": 4,
 "nbformat_minor": 5
}
