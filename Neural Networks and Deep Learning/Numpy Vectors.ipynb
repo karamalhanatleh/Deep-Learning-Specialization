{
 "cells": [
  {
   "cell_type": "markdown",
   "id": "a5069c44",
   "metadata": {},
   "source": [
    "# Numpy Vectors"
   ]
  },
  {
   "cell_type": "code",
   "execution_count": 1,
   "id": "08329002",
   "metadata": {},
   "outputs": [],
   "source": [
    "#import paskages\n",
    "import numpy as np"
   ]
  },
  {
   "cell_type": "code",
   "execution_count": 3,
   "id": "beb6e258",
   "metadata": {},
   "outputs": [
    {
     "data": {
      "text/plain": [
       "array([-1.17582742, -0.16044875,  0.45482325, -0.22023935,  0.33488099])"
      ]
     },
     "execution_count": 3,
     "metadata": {},
     "output_type": "execute_result"
    }
   ],
   "source": [
    "# Generating an array 'a' containing 5 random numbers drawn from a standard normal distribution\n",
    "a = np.random.randn(5)\n",
    "a"
   ]
  },
  {
   "cell_type": "code",
   "execution_count": 4,
   "id": "52cfb4a9",
   "metadata": {},
   "outputs": [
    {
     "data": {
      "text/plain": [
       "(5,)"
      ]
     },
     "execution_count": 4,
     "metadata": {},
     "output_type": "execute_result"
    }
   ],
   "source": [
    "#shape arrat\n",
    "a.shape"
   ]
  },
  {
   "cell_type": "code",
   "execution_count": 6,
   "id": "e497a09b",
   "metadata": {},
   "outputs": [
    {
     "name": "stdout",
     "output_type": "stream",
     "text": [
      "[-1.17582742 -0.16044875  0.45482325 -0.22023935  0.33488099]\n"
     ]
    }
   ],
   "source": [
    "# transpose \n",
    "print(a.T)\n"
   ]
  },
  {
   "cell_type": "code",
   "execution_count": 7,
   "id": "2dd79e83",
   "metadata": {},
   "outputs": [
    {
     "name": "stdout",
     "output_type": "stream",
     "text": [
      "1.7758287572688356\n"
     ]
    }
   ],
   "source": [
    "# Calculating  dot product of the array 'a' with its transpose and printing the result\n",
    "print(np.dot(a, a.T))"
   ]
  },
  {
   "cell_type": "code",
   "execution_count": 8,
   "id": "7b2e957e",
   "metadata": {},
   "outputs": [
    {
     "data": {
      "text/plain": [
       "array([[ 0.10189215],\n",
       "       [ 1.56542676],\n",
       "       [-0.30068994],\n",
       "       [-0.6428945 ],\n",
       "       [-0.7427984 ]])"
      ]
     },
     "execution_count": 8,
     "metadata": {},
     "output_type": "execute_result"
    }
   ],
   "source": [
    "# Generating a 5x1 array 'a' containing random numbers drawn from a standard normal distribution\n",
    "a = np.random.randn(5, 1)\n",
    "\n",
    "a"
   ]
  },
  {
   "cell_type": "code",
   "execution_count": 11,
   "id": "1c6480a1",
   "metadata": {},
   "outputs": [
    {
     "data": {
      "text/plain": [
       "(5, 1)"
      ]
     },
     "execution_count": 11,
     "metadata": {},
     "output_type": "execute_result"
    }
   ],
   "source": [
    "#shape array\n",
    "a.shape"
   ]
  },
  {
   "cell_type": "code",
   "execution_count": 9,
   "id": "7e06885b",
   "metadata": {},
   "outputs": [
    {
     "data": {
      "text/plain": [
       "array([[ 0.10189215,  1.56542676, -0.30068994, -0.6428945 , -0.7427984 ]])"
      ]
     },
     "execution_count": 9,
     "metadata": {},
     "output_type": "execute_result"
    }
   ],
   "source": [
    "# transpose  array\n",
    "a.T\n"
   ]
  },
  {
   "cell_type": "code",
   "execution_count": 10,
   "id": "d1bf9334",
   "metadata": {},
   "outputs": [
    {
     "name": "stdout",
     "output_type": "stream",
     "text": [
      "[[ 0.01038201  0.15950469 -0.03063794 -0.0655059  -0.07568532]\n",
      " [ 0.15950469  2.45056094 -0.47070808 -1.00640425 -1.16279649]\n",
      " [-0.03063794 -0.47070808  0.09041444  0.19331191  0.22335201]\n",
      " [-0.0655059  -1.00640425  0.19331191  0.41331334  0.477541  ]\n",
      " [-0.07568532 -1.16279649  0.22335201  0.477541    0.55174946]]\n"
     ]
    }
   ],
   "source": [
    "print(np.dot(a,a.T))"
   ]
  },
  {
   "cell_type": "code",
   "execution_count": null,
   "id": "63bb5554",
   "metadata": {},
   "outputs": [],
   "source": []
  }
 ],
 "metadata": {
  "kernelspec": {
   "display_name": "Python 3 (ipykernel)",
   "language": "python",
   "name": "python3"
  },
  "language_info": {
   "codemirror_mode": {
    "name": "ipython",
    "version": 3
   },
   "file_extension": ".py",
   "mimetype": "text/x-python",
   "name": "python",
   "nbconvert_exporter": "python",
   "pygments_lexer": "ipython3",
   "version": "3.9.13"
  }
 },
 "nbformat": 4,
 "nbformat_minor": 5
}
